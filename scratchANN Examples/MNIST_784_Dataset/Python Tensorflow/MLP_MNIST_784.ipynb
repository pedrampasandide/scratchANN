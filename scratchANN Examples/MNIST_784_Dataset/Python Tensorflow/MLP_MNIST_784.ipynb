{
  "cells": [
    {
      "cell_type": "markdown",
      "metadata": {
        "id": "O3JnEIZRSpD1"
      },
      "source": [
        "# Load Libraries and Data for MNIST 784"
      ]
    },
    {
      "cell_type": "code",
      "execution_count": null,
      "metadata": {
        "id": "uhr6nmCxUoRt"
      },
      "outputs": [],
      "source": [
        "# Import required libraries\n",
        "import time\n",
        "import os\n",
        "import tensorflow as tf\n",
        "from tensorflow.keras.models import Sequential\n",
        "from tensorflow.keras.layers import Input\n",
        "from tensorflow.keras.layers import Dense, Flatten\n",
        "from sklearn.datasets import fetch_openml\n",
        "from sklearn.model_selection import train_test_split\n",
        "from sklearn.preprocessing import LabelBinarizer\n",
        "import numpy as np\n",
        "# Plotting the training history (optional)\n",
        "import matplotlib.pyplot as plt\n",
        "from tensorflow.keras.optimizers import SGD\n",
        "\n",
        "# Load MNIST dataset from sklearn\n",
        "mnist = fetch_openml('mnist_784', version=1)"
      ]
    },
    {
      "cell_type": "code",
      "source": [
        "tf.config.threading.get_intra_op_parallelism_threads()"
      ],
      "metadata": {
        "colab": {
          "base_uri": "https://localhost:8080/"
        },
        "id": "F2zn35bm6wLJ",
        "outputId": "1d9acbf5-2c53-4ad0-c78e-b0fb4c3f69b7"
      },
      "execution_count": null,
      "outputs": [
        {
          "output_type": "execute_result",
          "data": {
            "text/plain": [
              "0"
            ]
          },
          "metadata": {},
          "execution_count": 25
        }
      ]
    },
    {
      "cell_type": "code",
      "source": [
        "print(\"Number of CPUs available:\", os.cpu_count())"
      ],
      "metadata": {
        "colab": {
          "base_uri": "https://localhost:8080/"
        },
        "id": "f_nhj4Rt6roI",
        "outputId": "bc3ba74f-f1a7-4f9a-f95c-814e91f49af5"
      },
      "execution_count": null,
      "outputs": [
        {
          "output_type": "stream",
          "name": "stdout",
          "text": [
            "Number of CPUs available: 2\n"
          ]
        }
      ]
    },
    {
      "cell_type": "markdown",
      "source": [
        "4 threads (2 CPUs × 2 threads per CPU) will be used during model training."
      ],
      "metadata": {
        "id": "POA6oajE7eeC"
      }
    },
    {
      "cell_type": "markdown",
      "metadata": {
        "id": "VSsE7MgOTAGO"
      },
      "source": [
        "# Data Processing"
      ]
    },
    {
      "cell_type": "code",
      "execution_count": null,
      "metadata": {
        "id": "S3fKWohHU5pt"
      },
      "outputs": [],
      "source": [
        "X = mnist.data.astype('float64') / 255.0  # Normalize pixel values to [0, 1]\n",
        "y = mnist.target.astype('float64')\n",
        "\n",
        "# One-hot encode the labels\n",
        "lb = LabelBinarizer()\n",
        "y1 = lb.fit_transform(y)\n",
        "\n",
        "# Split data into training and testing sets\n",
        "X_train, X_test, y_train, y_test = train_test_split(X, y1, test_size=0.2, random_state=42)\n"
      ]
    },
    {
      "cell_type": "markdown",
      "metadata": {
        "id": "Fo5DZ6_ES2_7"
      },
      "source": [
        "# Building Model and Training"
      ]
    },
    {
      "cell_type": "code",
      "execution_count": null,
      "metadata": {
        "colab": {
          "base_uri": "https://localhost:8080/",
          "height": 272
        },
        "id": "H1QNia1rVKxs",
        "outputId": "8467dadb-9243-4483-f45e-4d7c49879e95"
      },
      "outputs": [
        {
          "output_type": "display_data",
          "data": {
            "text/plain": [
              "\u001b[1mModel: \"sequential_2\"\u001b[0m\n"
            ],
            "text/html": [
              "<pre style=\"white-space:pre;overflow-x:auto;line-height:normal;font-family:Menlo,'DejaVu Sans Mono',consolas,'Courier New',monospace\"><span style=\"font-weight: bold\">Model: \"sequential_2\"</span>\n",
              "</pre>\n"
            ]
          },
          "metadata": {}
        },
        {
          "output_type": "display_data",
          "data": {
            "text/plain": [
              "┏━━━━━━━━━━━━━━━━━━━━━━━━━━━━━━━━━━━━━━┳━━━━━━━━━━━━━━━━━━━━━━━━━━━━━┳━━━━━━━━━━━━━━━━━┓\n",
              "┃\u001b[1m \u001b[0m\u001b[1mLayer (type)                        \u001b[0m\u001b[1m \u001b[0m┃\u001b[1m \u001b[0m\u001b[1mOutput Shape               \u001b[0m\u001b[1m \u001b[0m┃\u001b[1m \u001b[0m\u001b[1m        Param #\u001b[0m\u001b[1m \u001b[0m┃\n",
              "┡━━━━━━━━━━━━━━━━━━━━━━━━━━━━━━━━━━━━━━╇━━━━━━━━━━━━━━━━━━━━━━━━━━━━━╇━━━━━━━━━━━━━━━━━┩\n",
              "│ flatten_2 (\u001b[38;5;33mFlatten\u001b[0m)                  │ (\u001b[38;5;45mNone\u001b[0m, \u001b[38;5;34m784\u001b[0m)                 │               \u001b[38;5;34m0\u001b[0m │\n",
              "├──────────────────────────────────────┼─────────────────────────────┼─────────────────┤\n",
              "│ dense_6 (\u001b[38;5;33mDense\u001b[0m)                      │ (\u001b[38;5;45mNone\u001b[0m, \u001b[38;5;34m128\u001b[0m)                 │         \u001b[38;5;34m100,480\u001b[0m │\n",
              "├──────────────────────────────────────┼─────────────────────────────┼─────────────────┤\n",
              "│ dense_7 (\u001b[38;5;33mDense\u001b[0m)                      │ (\u001b[38;5;45mNone\u001b[0m, \u001b[38;5;34m64\u001b[0m)                  │           \u001b[38;5;34m8,256\u001b[0m │\n",
              "├──────────────────────────────────────┼─────────────────────────────┼─────────────────┤\n",
              "│ dense_8 (\u001b[38;5;33mDense\u001b[0m)                      │ (\u001b[38;5;45mNone\u001b[0m, \u001b[38;5;34m10\u001b[0m)                  │             \u001b[38;5;34m650\u001b[0m │\n",
              "└──────────────────────────────────────┴─────────────────────────────┴─────────────────┘\n"
            ],
            "text/html": [
              "<pre style=\"white-space:pre;overflow-x:auto;line-height:normal;font-family:Menlo,'DejaVu Sans Mono',consolas,'Courier New',monospace\">┏━━━━━━━━━━━━━━━━━━━━━━━━━━━━━━━━━━━━━━┳━━━━━━━━━━━━━━━━━━━━━━━━━━━━━┳━━━━━━━━━━━━━━━━━┓\n",
              "┃<span style=\"font-weight: bold\"> Layer (type)                         </span>┃<span style=\"font-weight: bold\"> Output Shape                </span>┃<span style=\"font-weight: bold\">         Param # </span>┃\n",
              "┡━━━━━━━━━━━━━━━━━━━━━━━━━━━━━━━━━━━━━━╇━━━━━━━━━━━━━━━━━━━━━━━━━━━━━╇━━━━━━━━━━━━━━━━━┩\n",
              "│ flatten_2 (<span style=\"color: #0087ff; text-decoration-color: #0087ff\">Flatten</span>)                  │ (<span style=\"color: #00d7ff; text-decoration-color: #00d7ff\">None</span>, <span style=\"color: #00af00; text-decoration-color: #00af00\">784</span>)                 │               <span style=\"color: #00af00; text-decoration-color: #00af00\">0</span> │\n",
              "├──────────────────────────────────────┼─────────────────────────────┼─────────────────┤\n",
              "│ dense_6 (<span style=\"color: #0087ff; text-decoration-color: #0087ff\">Dense</span>)                      │ (<span style=\"color: #00d7ff; text-decoration-color: #00d7ff\">None</span>, <span style=\"color: #00af00; text-decoration-color: #00af00\">128</span>)                 │         <span style=\"color: #00af00; text-decoration-color: #00af00\">100,480</span> │\n",
              "├──────────────────────────────────────┼─────────────────────────────┼─────────────────┤\n",
              "│ dense_7 (<span style=\"color: #0087ff; text-decoration-color: #0087ff\">Dense</span>)                      │ (<span style=\"color: #00d7ff; text-decoration-color: #00d7ff\">None</span>, <span style=\"color: #00af00; text-decoration-color: #00af00\">64</span>)                  │           <span style=\"color: #00af00; text-decoration-color: #00af00\">8,256</span> │\n",
              "├──────────────────────────────────────┼─────────────────────────────┼─────────────────┤\n",
              "│ dense_8 (<span style=\"color: #0087ff; text-decoration-color: #0087ff\">Dense</span>)                      │ (<span style=\"color: #00d7ff; text-decoration-color: #00d7ff\">None</span>, <span style=\"color: #00af00; text-decoration-color: #00af00\">10</span>)                  │             <span style=\"color: #00af00; text-decoration-color: #00af00\">650</span> │\n",
              "└──────────────────────────────────────┴─────────────────────────────┴─────────────────┘\n",
              "</pre>\n"
            ]
          },
          "metadata": {}
        },
        {
          "output_type": "display_data",
          "data": {
            "text/plain": [
              "\u001b[1m Total params: \u001b[0m\u001b[38;5;34m109,386\u001b[0m (427.29 KB)\n"
            ],
            "text/html": [
              "<pre style=\"white-space:pre;overflow-x:auto;line-height:normal;font-family:Menlo,'DejaVu Sans Mono',consolas,'Courier New',monospace\"><span style=\"font-weight: bold\"> Total params: </span><span style=\"color: #00af00; text-decoration-color: #00af00\">109,386</span> (427.29 KB)\n",
              "</pre>\n"
            ]
          },
          "metadata": {}
        },
        {
          "output_type": "display_data",
          "data": {
            "text/plain": [
              "\u001b[1m Trainable params: \u001b[0m\u001b[38;5;34m109,386\u001b[0m (427.29 KB)\n"
            ],
            "text/html": [
              "<pre style=\"white-space:pre;overflow-x:auto;line-height:normal;font-family:Menlo,'DejaVu Sans Mono',consolas,'Courier New',monospace\"><span style=\"font-weight: bold\"> Trainable params: </span><span style=\"color: #00af00; text-decoration-color: #00af00\">109,386</span> (427.29 KB)\n",
              "</pre>\n"
            ]
          },
          "metadata": {}
        },
        {
          "output_type": "display_data",
          "data": {
            "text/plain": [
              "\u001b[1m Non-trainable params: \u001b[0m\u001b[38;5;34m0\u001b[0m (0.00 B)\n"
            ],
            "text/html": [
              "<pre style=\"white-space:pre;overflow-x:auto;line-height:normal;font-family:Menlo,'DejaVu Sans Mono',consolas,'Courier New',monospace\"><span style=\"font-weight: bold\"> Non-trainable params: </span><span style=\"color: #00af00; text-decoration-color: #00af00\">0</span> (0.00 B)\n",
              "</pre>\n"
            ]
          },
          "metadata": {}
        }
      ],
      "source": [
        "# Define the MLP model\n",
        "model = Sequential([\n",
        "    Input(shape=(784,)),            # Explicit input layer\n",
        "    Flatten(),                      # Flatten layer to handle input data\n",
        "    Dense(128, activation='sigmoid'),  # Hidden layer with 128 neurons\n",
        "    Dense(64, activation='sigmoid'),   # Hidden layer with 64 neurons\n",
        "    Dense(10, activation='sigmoid') # Output layer with 10 classes\n",
        "])\n",
        "\n",
        "# Compile the model using SGD with a specified learning rate\n",
        "model.compile(optimizer=SGD(learning_rate=0.001),  # Set learning rate explicitly\n",
        "              loss='categorical_crossentropy',\n",
        "              metrics=['accuracy'])\n",
        "\n",
        "model.summary()"
      ]
    },
    {
      "cell_type": "code",
      "execution_count": null,
      "metadata": {
        "colab": {
          "base_uri": "https://localhost:8080/"
        },
        "id": "S9T9f2rFVMy7",
        "outputId": "33bac344-fa30-4197-ea40-914bf1653e49"
      },
      "outputs": [
        {
          "output_type": "stream",
          "name": "stdout",
          "text": [
            "Epoch 1/15\n",
            "\u001b[1m875/875\u001b[0m \u001b[32m━━━━━━━━━━━━━━━━━━━━\u001b[0m\u001b[37m\u001b[0m \u001b[1m4s\u001b[0m 4ms/step - accuracy: 0.0839 - loss: 2.4178 - val_accuracy: 0.1169 - val_loss: 2.3066\n",
            "Epoch 2/15\n",
            "\u001b[1m875/875\u001b[0m \u001b[32m━━━━━━━━━━━━━━━━━━━━\u001b[0m\u001b[37m\u001b[0m \u001b[1m2s\u001b[0m 3ms/step - accuracy: 0.1221 - loss: 2.3022 - val_accuracy: 0.1327 - val_loss: 2.2925\n",
            "Epoch 3/15\n",
            "\u001b[1m875/875\u001b[0m \u001b[32m━━━━━━━━━━━━━━━━━━━━\u001b[0m\u001b[37m\u001b[0m \u001b[1m3s\u001b[0m 3ms/step - accuracy: 0.1262 - loss: 2.2908 - val_accuracy: 0.1259 - val_loss: 2.2841\n",
            "Epoch 4/15\n",
            "\u001b[1m875/875\u001b[0m \u001b[32m━━━━━━━━━━━━━━━━━━━━\u001b[0m\u001b[37m\u001b[0m \u001b[1m3s\u001b[0m 3ms/step - accuracy: 0.1250 - loss: 2.2817 - val_accuracy: 0.1423 - val_loss: 2.2756\n",
            "Epoch 5/15\n",
            "\u001b[1m875/875\u001b[0m \u001b[32m━━━━━━━━━━━━━━━━━━━━\u001b[0m\u001b[37m\u001b[0m \u001b[1m3s\u001b[0m 3ms/step - accuracy: 0.1539 - loss: 2.2741 - val_accuracy: 0.1651 - val_loss: 2.2670\n",
            "Epoch 6/15\n",
            "\u001b[1m875/875\u001b[0m \u001b[32m━━━━━━━━━━━━━━━━━━━━\u001b[0m\u001b[37m\u001b[0m \u001b[1m5s\u001b[0m 3ms/step - accuracy: 0.1819 - loss: 2.2657 - val_accuracy: 0.1942 - val_loss: 2.2583\n",
            "Epoch 7/15\n",
            "\u001b[1m875/875\u001b[0m \u001b[32m━━━━━━━━━━━━━━━━━━━━\u001b[0m\u001b[37m\u001b[0m \u001b[1m2s\u001b[0m 3ms/step - accuracy: 0.2180 - loss: 2.2565 - val_accuracy: 0.2396 - val_loss: 2.2493\n",
            "Epoch 8/15\n",
            "\u001b[1m875/875\u001b[0m \u001b[32m━━━━━━━━━━━━━━━━━━━━\u001b[0m\u001b[37m\u001b[0m \u001b[1m2s\u001b[0m 3ms/step - accuracy: 0.2492 - loss: 2.2475 - val_accuracy: 0.3285 - val_loss: 2.2402\n",
            "Epoch 9/15\n",
            "\u001b[1m875/875\u001b[0m \u001b[32m━━━━━━━━━━━━━━━━━━━━\u001b[0m\u001b[37m\u001b[0m \u001b[1m3s\u001b[0m 4ms/step - accuracy: 0.3251 - loss: 2.2382 - val_accuracy: 0.3556 - val_loss: 2.2305\n",
            "Epoch 10/15\n",
            "\u001b[1m875/875\u001b[0m \u001b[32m━━━━━━━━━━━━━━━━━━━━\u001b[0m\u001b[37m\u001b[0m \u001b[1m4s\u001b[0m 3ms/step - accuracy: 0.3667 - loss: 2.2283 - val_accuracy: 0.4023 - val_loss: 2.2205\n",
            "Epoch 11/15\n",
            "\u001b[1m875/875\u001b[0m \u001b[32m━━━━━━━━━━━━━━━━━━━━\u001b[0m\u001b[37m\u001b[0m \u001b[1m2s\u001b[0m 3ms/step - accuracy: 0.4258 - loss: 2.2187 - val_accuracy: 0.4014 - val_loss: 2.2099\n",
            "Epoch 12/15\n",
            "\u001b[1m875/875\u001b[0m \u001b[32m━━━━━━━━━━━━━━━━━━━━\u001b[0m\u001b[37m\u001b[0m \u001b[1m3s\u001b[0m 3ms/step - accuracy: 0.4243 - loss: 2.2083 - val_accuracy: 0.4429 - val_loss: 2.1988\n",
            "Epoch 13/15\n",
            "\u001b[1m875/875\u001b[0m \u001b[32m━━━━━━━━━━━━━━━━━━━━\u001b[0m\u001b[37m\u001b[0m \u001b[1m6s\u001b[0m 4ms/step - accuracy: 0.4626 - loss: 2.1969 - val_accuracy: 0.4842 - val_loss: 2.1870\n",
            "Epoch 14/15\n",
            "\u001b[1m875/875\u001b[0m \u001b[32m━━━━━━━━━━━━━━━━━━━━\u001b[0m\u001b[37m\u001b[0m \u001b[1m2s\u001b[0m 3ms/step - accuracy: 0.4943 - loss: 2.1844 - val_accuracy: 0.5109 - val_loss: 2.1745\n",
            "Epoch 15/15\n",
            "\u001b[1m875/875\u001b[0m \u001b[32m━━━━━━━━━━━━━━━━━━━━\u001b[0m\u001b[37m\u001b[0m \u001b[1m3s\u001b[0m 3ms/step - accuracy: 0.5194 - loss: 2.1721 - val_accuracy: 0.5295 - val_loss: 2.1612\n",
            "Time taken for model.fit(): 48.75 seconds\n"
          ]
        }
      ],
      "source": [
        "# Train the model\n",
        "start_time = time.time()  # Record the start time\n",
        "\n",
        "history = model.fit(X_train, y_train, epochs=15, batch_size=64, validation_data=(X_test, y_test))\n",
        "\n",
        "end_time = time.time()    # Record the end time\n",
        "# Calculate and print the elapsed time\n",
        "elapsed_time = end_time - start_time\n",
        "print(f\"Time taken for model.fit(): {elapsed_time:.2f} seconds\")"
      ]
    },
    {
      "cell_type": "markdown",
      "metadata": {
        "id": "uJp_TnUOTEh6"
      },
      "source": [
        "# Evaluation"
      ]
    },
    {
      "cell_type": "code",
      "execution_count": null,
      "metadata": {
        "colab": {
          "base_uri": "https://localhost:8080/"
        },
        "id": "-pOI7jPJVO6U",
        "outputId": "ede581ac-1fa5-46aa-874a-3015ddf5872f"
      },
      "outputs": [
        {
          "output_type": "stream",
          "name": "stdout",
          "text": [
            "Test Accuracy: 52.95%\n"
          ]
        }
      ],
      "source": [
        "# Evaluate the model on the test set\n",
        "test_loss, test_accuracy = model.evaluate(X_test, y_test, verbose=0)\n",
        "print(f\"Test Accuracy: {test_accuracy * 100:.2f}%\")\n"
      ]
    },
    {
      "cell_type": "code",
      "execution_count": null,
      "metadata": {
        "colab": {
          "base_uri": "https://localhost:8080/",
          "height": 449
        },
        "id": "1B2qg1T8VQ7o",
        "outputId": "5ab7f193-3550-4834-af1d-34989f0c7569"
      },
      "outputs": [
        {
          "output_type": "display_data",
          "data": {
            "text/plain": [
              "<Figure size 640x480 with 1 Axes>"
            ],
            "image/png": "[encoded data removed]"
          },
          "metadata": {}
        }
      ],
      "source": [
        "\n",
        "\n",
        "plt.plot(history.history['accuracy'], label='Training Accuracy')\n",
        "plt.plot(history.history['val_accuracy'], label='Validation Accuracy')\n",
        "plt.xlabel('Epochs')\n",
        "plt.ylabel('Accuracy')\n",
        "plt.legend()\n",
        "plt.show()"
      ]
    },
    {
      "cell_type": "markdown",
      "metadata": {
        "id": "FoBjIrCWSOnY"
      },
      "source": [
        "# Save Data in text format to use in C\n",
        "Here is just about saving data into text format where reading function in C works to read the data."
      ]
    },
    {
      "cell_type": "code",
      "execution_count": null,
      "metadata": {
        "id": "-Xs44dzYSNRJ",
        "colab": {
          "base_uri": "https://localhost:8080/"
        },
        "outputId": "ed6156af-894d-493a-996e-ee7e48d294c4"
      },
      "outputs": [
        {
          "output_type": "stream",
          "name": "stdout",
          "text": [
            "Drive already mounted at /content/drive; to attempt to forcibly remount, call drive.mount(\"/content/drive\", force_remount=True).\n",
            "Shape of the data array: (70000, 794)\n"
          ]
        }
      ],
      "source": [
        "import numpy as np\n",
        "from sklearn.datasets import fetch_openml\n",
        "from google.colab import drive\n",
        "\n",
        "# Mount Google Drive\n",
        "drive.mount('/content/drive')\n",
        "\n",
        "# Load MNIST dataset\n",
        "X, y = fetch_openml('mnist_784', version=1, return_X_y=True)\n",
        "\n",
        "# Convert X and y to numpy arrays\n",
        "X = np.array(X, dtype=int)\n",
        "y = np.array(y, dtype=int)  # Convert y to integers\n",
        "\n",
        "# Create a one-hot encoded matrix for y\n",
        "num_classes = 10\n",
        "y_one_hot = np.zeros((y.shape[0], num_classes), dtype=int)\n",
        "\n",
        "y_one_hot[np.arange(y.shape[0]), y] = 1\n",
        "\n",
        "# Concatenate X and the one-hot encoded y\n",
        "data = np.hstack((X, y_one_hot))\n",
        "\n",
        "# Verify the shape and content\n",
        "print(\"Shape of the data array:\", data.shape)\n",
        "# print(\"Sample row from the data array:\", data[0])"
      ]
    },
    {
      "cell_type": "code",
      "execution_count": null,
      "metadata": {
        "id": "H3R0UpMLTeqk",
        "colab": {
          "base_uri": "https://localhost:8080/"
        },
        "outputId": "03e5b15a-ae01-4c7d-f2f5-1f5a99f4a384"
      },
      "outputs": [
        {
          "output_type": "stream",
          "name": "stdout",
          "text": [
            "Data saved to /content/drive/My Drive/mnist_one_hot_data.txt\n"
          ]
        }
      ],
      "source": [
        "# Prepare the column labels\n",
        "num_features = X.shape[1]\n",
        "feature_labels = [f\"x{i+1}\" for i in range(num_features)]\n",
        "output_labels = [f\"y{i}\" for i in range(num_classes)]\n",
        "column_labels = feature_labels + output_labels\n",
        "\n",
        "# Filepath to save on Google Drive\n",
        "file_path = \"/content/drive/My Drive/mnist_one_hot_data.txt\"\n",
        "\n",
        "# Write the file\n",
        "with open(file_path, 'w') as file:\n",
        "    # Write header information\n",
        "    file.write(\"# MNIST Dataset\\n\")\n",
        "    file.write(\"# Reference: https://www.openml.org/d/554\\n\")\n",
        "    file.write(\"#\\n\")\n",
        "    file.write(\"# Python code used to generate this file:\\n\")\n",
        "    file.write(\"################################################################\\n\")\n",
        "\n",
        "    python_code = \"\"\"\n",
        "import numpy as np\n",
        "from sklearn.datasets import fetch_openml\n",
        "from google.colab import drive\n",
        "\n",
        "# Mount Google Drive\n",
        "drive.mount('/content/drive')\n",
        "\n",
        "# Load MNIST dataset\n",
        "X, y = fetch_openml('mnist_784', version=1, return_X_y=True)\n",
        "\n",
        "# Convert X and y to numpy arrays\n",
        "X = np.array(X, dtype=int)\n",
        "y = np.array(y, dtype=int)  # Convert y to integers\n",
        "\n",
        "# Create a one-hot encoded matrix for y\n",
        "num_classes = 10\n",
        "y_one_hot = np.zeros((y.shape[0], num_classes), dtype=int)\n",
        "\n",
        "y_one_hot[np.arange(y.shape[0]), y] = 1\n",
        "\n",
        "# Concatenate X and the one-hot encoded y\n",
        "data = np.hstack((X, y_one_hot))\n",
        "\n",
        "# Verify the shape and content\n",
        "print(\"Shape of the data array:\", data.shape)\n",
        "\n",
        "# Prepare the column labels\n",
        "num_features = X.shape[1]\n",
        "feature_labels = [f\"x{i+1}\" for i in range(num_features)]\n",
        "output_labels = [f\"y{i}\" for i in range(num_classes)]\n",
        "column_labels = feature_labels + output_labels\n",
        "\n",
        "# Filepath to save on Google Drive\n",
        "file_path = \"/content/drive/My Drive/mnist_one_hot_data.txt\"\n",
        "\n",
        "# Write the file\n",
        "with open(file_path, 'w') as file:\n",
        "    # Write header information\n",
        "    file.write(\"# MNIST Dataset\\\\n\")\n",
        "    file.write(\"# Reference: https://www.openml.org/d/554\\\\n\")\n",
        "    file.write(\"# \" + \"\\\\t\".join(column_labels) + \"\\\\n\")\n",
        "    file.write(\"#\" + \"-\" * 127 + \"\\\\n\")\n",
        "\n",
        "    # Write the data with tab as delimiter\n",
        "    np.savetxt(file, data, fmt='%d', delimiter=\"\\\\t\")\n",
        "\n",
        "print(f\"Data saved to {file_path}\")\n",
        "\"\"\"\n",
        "    # Add each line of the Python code to the file, prefixed with \"#\"\n",
        "    for line in python_code.strip().split(\"\\n\"):\n",
        "        file.write(f\"# {line.strip()}\\n\")\n",
        "\n",
        "    file.write(\"#\\n\")\n",
        "    file.write(\"################################################################\\n\")\n",
        "    file.write(\"# \" + \"\\t\".join(column_labels) + \"\\n\")\n",
        "    file.write(\"#\" + \"-\" * 127 + \"\\n\")\n",
        "\n",
        "    # Write the data with tab as delimiter\n",
        "    np.savetxt(file, data, fmt='%d', delimiter=\"\\t\")\n",
        "\n",
        "print(f\"Data saved to {file_path}\")"
      ]
    }
  ],
  "metadata": {
    "colab": {
      "provenance": []
    },
    "kernelspec": {
      "display_name": "Python 3",
      "name": "python3"
    },
    "language_info": {
      "name": "python"
    }
  },
  "nbformat": 4,
  "nbformat_minor": 0
}